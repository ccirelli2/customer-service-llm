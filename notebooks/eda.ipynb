{
 "cells": [
  {
   "cell_type": "markdown",
   "id": "90f5a99a-59d0-47e1-a659-362467ca234f",
   "metadata": {},
   "source": [
    "# Summary\n",
    "\n",
    "- Initial exploratory data analysis of complaint file\n",
    "\n",
    "\n",
    "### Notes\n",
    "- Data dictionary is not helpful.\n",
    "- We have no firmographic data about the companies.\n",
    "- How do we want to deal with fake reviews?\n",
    "- Month, permo and predicted value have 100% null values.\n",
    "- Recommend business has 33% null.\n",
    "- Possible issues with duplicate records.\n",
    "    - EDA reveals that ~ 67% of records are duplicates. Are we working with the entire negative datast?\n",
    "    - Business ID: 27139514, Charles Sneed, submitted the sample complaint 4,000 times.\n",
    "    - The response from the business appears to be exactly the same.\n",
    "    - Description Field: complaint exactly the same yet description changes.\n",
    "    - Complaints all submitted on the same date.\n",
    "- Recommend business: how do should we interpret a positive response to this despite a complaint?\n",
    "\n",
    "- NER\n",
    "    - I wonder if we can use the LLM to extract amounts mentioned in the text, for example, amounts paid, lost, damage.\n",
    "    - This could be an indication of the magnitude of the claim for a given company (not across companies).\n",
    "- Summarization\n",
    "    - Ask LLM to summarize the complaint.  What is the root of the complaint?  This may help human get to conclusion\n",
    "      faster.  Example, root of complaint.\n",
    "    - Ask LLM to predict what they think the user wants, i.e. do they want a refund?  Do they want to go to court?\n",
    "    - Do they simply want the company to respond to them?\n",
    "    - Does the customer mention the first date on which the issue started?\n",
    "    - Does the recommendation to continue with the provider match the review?\n",
    "- Status\n",
    "    - Unclear if this field is useful.  99% are reviewed and published.\n",
    "\n",
    "\n",
    "### Transformations to Data\n",
    "- Data type conversion\n",
    "- Drop duplicates.\n",
    "\n",
    "### Data Dictionary\n",
    "- Description: Is this a classification of the complaint or associated with the provider?  Who fills out this field?\n",
    "- isPrimary: not included in the data dictionary.\n",
    "- Business: name of business\n",
    "- First Name: first name of person submitting review.\n",
    "- Last Name: last name of person submitting review. \n",
    "- Submitted: date submitted.\n",
    "- Source: has 5 levels.  'IABBB/Profile', nan, 'Review Partner', 'Transfer', 'blue Form'.  What do they mean?\n",
    "- Experience: indicates the polarity of the review.  In this dataset we only have negative.\n",
    "- Recommend Business:\n",
    "- Status: indicates the status of the complaint.  99% are reviewed and published.\n",
    "- Code: unclear.  600 unique values.  Not a Pkey.\n",
    "\n",
    "<br>"
   ]
  },
  {
   "cell_type": "markdown",
   "id": "18b2dff5-be05-4eb0-8edf-bd5f2f94735f",
   "metadata": {},
   "source": [
    "\n",
    "---\n",
    "# I. Setup\n",
    "---"
   ]
  },
  {
   "cell_type": "markdown",
   "id": "784f0f79-c6db-4616-993a-ab19fcbe1163",
   "metadata": {},
   "source": [
    "### Import Libraries"
   ]
  },
  {
   "cell_type": "code",
   "execution_count": 1,
   "id": "32b672d1-56a8-40ed-bc76-0e0346e5020d",
   "metadata": {
    "tags": []
   },
   "outputs": [],
   "source": [
    "import os\n",
    "import pandas as pd"
   ]
  },
  {
   "cell_type": "markdown",
   "id": "6e055988-78ba-486a-80e0-22687e73f219",
   "metadata": {},
   "source": [
    "### Globals"
   ]
  },
  {
   "cell_type": "code",
   "execution_count": 9,
   "id": "688c4758-c800-4a5d-89e7-239699a4e231",
   "metadata": {},
   "outputs": [],
   "source": [
    "DIR_ROOT = \"/Users/temp-admin/repositories/customer-service-llm\"\n",
    "DIR_DATA = os.path.join(DIR_ROOT, 'data')\n",
    "DIR_DATA_EDA = os.path.join(DIR_DATA, 'eda')\n",
    "DIR_DATA_SRC = os.path.join(DIR_DATA, 'source')\n",
    "\n",
    "FILE_NAME_NEG_REVIEWS = \"business_responses_neg.csv\"\n",
    "FILE_NAME_ALL_REVIEWS = \"business_responses_all.csv\"\n",
    "FILE_NAME_DD = \"data_dictionary.xlsx\""
   ]
  },
  {
   "cell_type": "markdown",
   "id": "34e6d4ee-5cd2-40b9-87fa-3686e5258d44",
   "metadata": {},
   "source": [
    "#### Settings"
   ]
  },
  {
   "cell_type": "code",
   "execution_count": 25,
   "id": "5a5579d5-7ac1-4b7f-af76-fab23491c520",
   "metadata": {
    "tags": []
   },
   "outputs": [],
   "source": [
    "pd.set_option('display.max_columns', None)"
   ]
  },
  {
   "cell_type": "markdown",
   "id": "45a56667-96e3-4369-9c96-7b006cc28207",
   "metadata": {},
   "source": [
    "### Schema"
   ]
  },
  {
   "cell_type": "code",
   "execution_count": 4,
   "id": "e62a2859-f9c9-4f7d-b4f2-02a99de55580",
   "metadata": {
    "tags": []
   },
   "outputs": [],
   "source": [
    "schema = {\n",
    "    'numeric_columns': [\n",
    "        'Business ID', 'PKID', 'FScore', 'Number of Business Responses',\n",
    "        'Stars', 'Month', 'permno', 'PredictedValue', 'year', 'BID',\n",
    "        'isPrimary'\n",
    "    ],\n",
    "    'categorical_columns': [\n",
    "        'Business', 'Last Name', 'First Name', 'Email', 'Display Name', 'Zip Code', 'IP', 'Source',\n",
    "        'Submitted', 'Experience', 'Recommend Business', 'Last Business Response', 'Review',\n",
    "        'Business Response', 'Status', 'Reason', 'Code', 'Description'\n",
    "    ]\n",
    "}"
   ]
  },
  {
   "cell_type": "markdown",
   "id": "706c46e3-12f8-46cb-bed2-eb79ce3764ca",
   "metadata": {},
   "source": [
    "### Load Data"
   ]
  },
  {
   "cell_type": "code",
   "execution_count": 21,
   "id": "f7465ed0-393a-4797-82cc-6826fe71b4c9",
   "metadata": {
    "tags": []
   },
   "outputs": [
    {
     "name": "stderr",
     "output_type": "stream",
     "text": [
      "/var/folders/z5/785ggch143j6xcyg8q23rgsw0000gp/T/ipykernel_70296/1135274062.py:1: DtypeWarning: Columns (5,12) have mixed types. Specify dtype option on import or set low_memory=False.\n",
      "  all_df = pd.read_csv(os.path.join(DIR_DATA_SRC, FILE_NAME_ALL_REVIEWS))\n"
     ]
    },
    {
     "data": {
      "text/plain": [
       "(105619, 25)"
      ]
     },
     "execution_count": 21,
     "metadata": {},
     "output_type": "execute_result"
    }
   ],
   "source": [
    "all_df = pd.read_csv(os.path.join(DIR_DATA_SRC, FILE_NAME_ALL_REVIEWS))\n",
    "all_df.shape"
   ]
  },
  {
   "cell_type": "code",
   "execution_count": 15,
   "id": "5536ac62-188b-4f88-b235-931037505978",
   "metadata": {},
   "outputs": [
    {
     "data": {
      "text/plain": [
       "(26423, 29)"
      ]
     },
     "execution_count": 15,
     "metadata": {},
     "output_type": "execute_result"
    }
   ],
   "source": [
    "neg_df = pd.read_csv(os.path.join(DIR_DATA_SRC, FILE_NAME_NEG_REVIEWS))\n",
    "neg_df.shape"
   ]
  },
  {
   "cell_type": "code",
   "execution_count": 6,
   "id": "f817f7ad-2c45-4e7d-87de-8248df4daeb5",
   "metadata": {
    "tags": []
   },
   "outputs": [
    {
     "data": {
      "text/plain": [
       "(19, 2)"
      ]
     },
     "execution_count": 6,
     "metadata": {},
     "output_type": "execute_result"
    }
   ],
   "source": [
    "dd_df = pd.read_excel(os.path.join(DIR_DATA_SRC, FILE_NAME_DD))\n",
    "dd_df.shape"
   ]
  },
  {
   "cell_type": "markdown",
   "id": "f8574c32-fec3-42d7-9588-a50072462197",
   "metadata": {},
   "source": [
    "---\n",
    "# II. EDA\n",
    "---"
   ]
  },
  {
   "cell_type": "markdown",
   "id": "6a71df7a-cd69-425d-8738-d49eb99050ed",
   "metadata": {},
   "source": [
    "### Display Data"
   ]
  },
  {
   "cell_type": "code",
   "execution_count": 28,
   "id": "7c0e40b1-0b8a-49c8-ad60-756a35917a26",
   "metadata": {},
   "outputs": [
    {
     "data": {
      "text/html": [
       "<div>\n",
       "<style scoped>\n",
       "    .dataframe tbody tr th:only-of-type {\n",
       "        vertical-align: middle;\n",
       "    }\n",
       "\n",
       "    .dataframe tbody tr th {\n",
       "        vertical-align: top;\n",
       "    }\n",
       "\n",
       "    .dataframe thead th {\n",
       "        text-align: right;\n",
       "    }\n",
       "</style>\n",
       "<table border=\"1\" class=\"dataframe\">\n",
       "  <thead>\n",
       "    <tr style=\"text-align: right;\">\n",
       "      <th></th>\n",
       "      <th>0</th>\n",
       "    </tr>\n",
       "  </thead>\n",
       "  <tbody>\n",
       "    <tr>\n",
       "      <th>BBB</th>\n",
       "      <td>Atlanta</td>\n",
       "    </tr>\n",
       "    <tr>\n",
       "      <th>CID</th>\n",
       "      <td>115912.0</td>\n",
       "    </tr>\n",
       "    <tr>\n",
       "      <th>Consumer Name</th>\n",
       "      <td>Shirley R.  F.</td>\n",
       "    </tr>\n",
       "    <tr>\n",
       "      <th>Consumer Postal Code</th>\n",
       "      <td>35466</td>\n",
       "    </tr>\n",
       "    <tr>\n",
       "      <th>Consumer Email</th>\n",
       "      <td>shisley4@yahoo.com</td>\n",
       "    </tr>\n",
       "    <tr>\n",
       "      <th>Consumer Phone</th>\n",
       "      <td>2052922639</td>\n",
       "    </tr>\n",
       "    <tr>\n",
       "      <th>Consumer IP Address</th>\n",
       "      <td>64.234.50.187</td>\n",
       "    </tr>\n",
       "    <tr>\n",
       "      <th>BID</th>\n",
       "      <td>28121357</td>\n",
       "    </tr>\n",
       "    <tr>\n",
       "      <th>Business Name</th>\n",
       "      <td>SoGoodBB</td>\n",
       "    </tr>\n",
       "    <tr>\n",
       "      <th>Business Street</th>\n",
       "      <td>2605 N Berkeley Lake Rd NW STE 600</td>\n",
       "    </tr>\n",
       "    <tr>\n",
       "      <th>Business City</th>\n",
       "      <td>Duluth</td>\n",
       "    </tr>\n",
       "    <tr>\n",
       "      <th>Business State</th>\n",
       "      <td>GA</td>\n",
       "    </tr>\n",
       "    <tr>\n",
       "      <th>Business Postal Code</th>\n",
       "      <td>30096.0</td>\n",
       "    </tr>\n",
       "    <tr>\n",
       "      <th>Business TOB</th>\n",
       "      <td>60420-110 Hair Weave</td>\n",
       "    </tr>\n",
       "    <tr>\n",
       "      <th>Tier</th>\n",
       "      <td>Standard</td>\n",
       "    </tr>\n",
       "    <tr>\n",
       "      <th>AB</th>\n",
       "      <td>No</td>\n",
       "    </tr>\n",
       "    <tr>\n",
       "      <th>Rtg</th>\n",
       "      <td>A+</td>\n",
       "    </tr>\n",
       "    <tr>\n",
       "      <th>Received</th>\n",
       "      <td>02/27/2021</td>\n",
       "    </tr>\n",
       "    <tr>\n",
       "      <th>Stars</th>\n",
       "      <td>1.0</td>\n",
       "    </tr>\n",
       "    <tr>\n",
       "      <th>Verified</th>\n",
       "      <td>No</td>\n",
       "    </tr>\n",
       "    <tr>\n",
       "      <th>Published</th>\n",
       "      <td>Yes</td>\n",
       "    </tr>\n",
       "    <tr>\n",
       "      <th>F Score</th>\n",
       "      <td>0.0</td>\n",
       "    </tr>\n",
       "    <tr>\n",
       "      <th>Text</th>\n",
       "      <td>This is a shady company! I received a unit tha...</td>\n",
       "    </tr>\n",
       "    <tr>\n",
       "      <th>Unnamed: 23</th>\n",
       "      <td>NaN</td>\n",
       "    </tr>\n",
       "    <tr>\n",
       "      <th>Unnamed: 0</th>\n",
       "      <td>NaN</td>\n",
       "    </tr>\n",
       "  </tbody>\n",
       "</table>\n",
       "</div>"
      ],
      "text/plain": [
       "                                                                      0\n",
       "BBB                                                             Atlanta\n",
       "CID                                                            115912.0\n",
       "Consumer Name                                            Shirley R.  F.\n",
       "Consumer Postal Code                                              35466\n",
       "Consumer Email                                       shisley4@yahoo.com\n",
       "Consumer Phone                                               2052922639\n",
       "Consumer IP Address                                       64.234.50.187\n",
       "BID                                                            28121357\n",
       "Business Name                                                  SoGoodBB\n",
       "Business Street                      2605 N Berkeley Lake Rd NW STE 600\n",
       "Business City                                                    Duluth\n",
       "Business State                                                       GA\n",
       "Business Postal Code                                            30096.0\n",
       "Business TOB                                       60420-110 Hair Weave\n",
       "Tier                                                           Standard\n",
       "AB                                                                   No\n",
       "Rtg                                                                  A+\n",
       "Received                                                     02/27/2021\n",
       "Stars                                                               1.0\n",
       "Verified                                                             No\n",
       "Published                                                           Yes\n",
       "F Score                                                             0.0\n",
       "Text                  This is a shady company! I received a unit tha...\n",
       "Unnamed: 23                                                         NaN\n",
       "Unnamed: 0                                                          NaN"
      ]
     },
     "execution_count": 28,
     "metadata": {},
     "output_type": "execute_result"
    }
   ],
   "source": [
    "all_df.head(1).transpose()"
   ]
  },
  {
   "cell_type": "code",
   "execution_count": 29,
   "id": "613d639c-08f7-4379-995e-b4f285e7f980",
   "metadata": {
    "tags": []
   },
   "outputs": [
    {
     "data": {
      "text/html": [
       "<div>\n",
       "<style scoped>\n",
       "    .dataframe tbody tr th:only-of-type {\n",
       "        vertical-align: middle;\n",
       "    }\n",
       "\n",
       "    .dataframe tbody tr th {\n",
       "        vertical-align: top;\n",
       "    }\n",
       "\n",
       "    .dataframe thead th {\n",
       "        text-align: right;\n",
       "    }\n",
       "</style>\n",
       "<table border=\"1\" class=\"dataframe\">\n",
       "  <thead>\n",
       "    <tr style=\"text-align: right;\">\n",
       "      <th></th>\n",
       "      <th>0</th>\n",
       "    </tr>\n",
       "  </thead>\n",
       "  <tbody>\n",
       "    <tr>\n",
       "      <th>Business ID</th>\n",
       "      <td>595.0</td>\n",
       "    </tr>\n",
       "    <tr>\n",
       "      <th>Business</th>\n",
       "      <td>Financial Asset Management Systems, Inc.</td>\n",
       "    </tr>\n",
       "    <tr>\n",
       "      <th>PKID</th>\n",
       "      <td>203318.0</td>\n",
       "    </tr>\n",
       "    <tr>\n",
       "      <th>Last Name</th>\n",
       "      <td>Doolin</td>\n",
       "    </tr>\n",
       "    <tr>\n",
       "      <th>First Name</th>\n",
       "      <td>Mary</td>\n",
       "    </tr>\n",
       "    <tr>\n",
       "      <th>Email</th>\n",
       "      <td>stetsoncowgirl@gmail.com</td>\n",
       "    </tr>\n",
       "    <tr>\n",
       "      <th>Display Name</th>\n",
       "      <td>Mary D</td>\n",
       "    </tr>\n",
       "    <tr>\n",
       "      <th>Zip Code</th>\n",
       "      <td>32504</td>\n",
       "    </tr>\n",
       "    <tr>\n",
       "      <th>IP</th>\n",
       "      <td>69.85.205.227</td>\n",
       "    </tr>\n",
       "    <tr>\n",
       "      <th>FScore</th>\n",
       "      <td>0.0</td>\n",
       "    </tr>\n",
       "    <tr>\n",
       "      <th>Source</th>\n",
       "      <td>IABBB/Profile</td>\n",
       "    </tr>\n",
       "    <tr>\n",
       "      <th>Submitted</th>\n",
       "      <td>11/08/2022</td>\n",
       "    </tr>\n",
       "    <tr>\n",
       "      <th>Experience</th>\n",
       "      <td>Negative</td>\n",
       "    </tr>\n",
       "    <tr>\n",
       "      <th>Recommend Business</th>\n",
       "      <td>True</td>\n",
       "    </tr>\n",
       "    <tr>\n",
       "      <th>Number of Business Responses</th>\n",
       "      <td>1.0</td>\n",
       "    </tr>\n",
       "    <tr>\n",
       "      <th>Last Business Response</th>\n",
       "      <td>11/14/2022</td>\n",
       "    </tr>\n",
       "    <tr>\n",
       "      <th>Review</th>\n",
       "      <td>Why are you sending me letters from a loan tha...</td>\n",
       "    </tr>\n",
       "    <tr>\n",
       "      <th>Business Response</th>\n",
       "      <td>FAMS is not a debt buyer and did not purchase ...</td>\n",
       "    </tr>\n",
       "    <tr>\n",
       "      <th>Status</th>\n",
       "      <td>Reviewed and Published</td>\n",
       "    </tr>\n",
       "    <tr>\n",
       "      <th>Reason</th>\n",
       "      <td>NaN</td>\n",
       "    </tr>\n",
       "    <tr>\n",
       "      <th>Stars</th>\n",
       "      <td>1.0</td>\n",
       "    </tr>\n",
       "    <tr>\n",
       "      <th>Month</th>\n",
       "      <td>NaN</td>\n",
       "    </tr>\n",
       "    <tr>\n",
       "      <th>permno</th>\n",
       "      <td>NaN</td>\n",
       "    </tr>\n",
       "    <tr>\n",
       "      <th>PredictedValue</th>\n",
       "      <td>NaN</td>\n",
       "    </tr>\n",
       "    <tr>\n",
       "      <th>year</th>\n",
       "      <td>2022</td>\n",
       "    </tr>\n",
       "    <tr>\n",
       "      <th>BID</th>\n",
       "      <td>595.0</td>\n",
       "    </tr>\n",
       "    <tr>\n",
       "      <th>Code</th>\n",
       "      <td>20012-000</td>\n",
       "    </tr>\n",
       "    <tr>\n",
       "      <th>isPrimary</th>\n",
       "      <td>0.0</td>\n",
       "    </tr>\n",
       "    <tr>\n",
       "      <th>Description</th>\n",
       "      <td>Financial Planning Consultants</td>\n",
       "    </tr>\n",
       "  </tbody>\n",
       "</table>\n",
       "</div>"
      ],
      "text/plain": [
       "                                                                              0\n",
       "Business ID                                                               595.0\n",
       "Business                               Financial Asset Management Systems, Inc.\n",
       "PKID                                                                   203318.0\n",
       "Last Name                                                                Doolin\n",
       "First Name                                                                 Mary\n",
       "Email                                                  stetsoncowgirl@gmail.com\n",
       "Display Name                                                             Mary D\n",
       "Zip Code                                                                  32504\n",
       "IP                                                                69.85.205.227\n",
       "FScore                                                                      0.0\n",
       "Source                                                            IABBB/Profile\n",
       "Submitted                                                            11/08/2022\n",
       "Experience                                                             Negative\n",
       "Recommend Business                                                         True\n",
       "Number of Business Responses                                                1.0\n",
       "Last Business Response                                               11/14/2022\n",
       "Review                        Why are you sending me letters from a loan tha...\n",
       "Business Response             FAMS is not a debt buyer and did not purchase ...\n",
       "Status                                                   Reviewed and Published\n",
       "Reason                                                                      NaN\n",
       "Stars                                                                       1.0\n",
       "Month                                                                       NaN\n",
       "permno                                                                      NaN\n",
       "PredictedValue                                                              NaN\n",
       "year                                                                       2022\n",
       "BID                                                                       595.0\n",
       "Code                                                                  20012-000\n",
       "isPrimary                                                                   0.0\n",
       "Description                                      Financial Planning Consultants"
      ]
     },
     "execution_count": 29,
     "metadata": {},
     "output_type": "execute_result"
    }
   ],
   "source": [
    "neg_df.head(1).transpose()"
   ]
  },
  {
   "cell_type": "code",
   "execution_count": 8,
   "id": "91284ded-2f14-48bb-9154-9345a7b41894",
   "metadata": {},
   "outputs": [
    {
     "data": {
      "text/html": [
       "<div>\n",
       "<style scoped>\n",
       "    .dataframe tbody tr th:only-of-type {\n",
       "        vertical-align: middle;\n",
       "    }\n",
       "\n",
       "    .dataframe tbody tr th {\n",
       "        vertical-align: top;\n",
       "    }\n",
       "\n",
       "    .dataframe thead th {\n",
       "        text-align: right;\n",
       "    }\n",
       "</style>\n",
       "<table border=\"1\" class=\"dataframe\">\n",
       "  <thead>\n",
       "    <tr style=\"text-align: right;\">\n",
       "      <th></th>\n",
       "      <th>Business iD</th>\n",
       "      <th>Unnamed: 1</th>\n",
       "    </tr>\n",
       "  </thead>\n",
       "  <tbody>\n",
       "    <tr>\n",
       "      <th>0</th>\n",
       "      <td>Business</td>\n",
       "      <td>NaN</td>\n",
       "    </tr>\n",
       "    <tr>\n",
       "      <th>1</th>\n",
       "      <td>PKID</td>\n",
       "      <td>NaN</td>\n",
       "    </tr>\n",
       "    <tr>\n",
       "      <th>2</th>\n",
       "      <td>Last Name</td>\n",
       "      <td>NaN</td>\n",
       "    </tr>\n",
       "    <tr>\n",
       "      <th>3</th>\n",
       "      <td>First Name</td>\n",
       "      <td>NaN</td>\n",
       "    </tr>\n",
       "    <tr>\n",
       "      <th>4</th>\n",
       "      <td>Email</td>\n",
       "      <td>NaN</td>\n",
       "    </tr>\n",
       "  </tbody>\n",
       "</table>\n",
       "</div>"
      ],
      "text/plain": [
       "  Business iD Unnamed: 1\n",
       "0    Business        NaN\n",
       "1        PKID        NaN\n",
       "2   Last Name        NaN\n",
       "3  First Name        NaN\n",
       "4       Email        NaN"
      ]
     },
     "execution_count": 8,
     "metadata": {},
     "output_type": "execute_result"
    }
   ],
   "source": [
    "dd_df.head()"
   ]
  },
  {
   "cell_type": "markdown",
   "id": "b3870a3c-de81-4272-a4d2-57dde1f8e907",
   "metadata": {},
   "source": [
    "### Check Column Diff"
   ]
  },
  {
   "cell_type": "code",
   "execution_count": 24,
   "id": "a8267ccd-3d58-471a-be99-7c0b828b2b6c",
   "metadata": {
    "tags": []
   },
   "outputs": [
    {
     "data": {
      "text/plain": [
       "Index(['BBB', 'CID', 'Consumer Name', 'Consumer Postal Code', 'Consumer Email',\n",
       "       'Consumer Phone', 'Consumer IP Address', 'BID', 'Business Name',\n",
       "       'Business Street', 'Business City', 'Business State',\n",
       "       'Business Postal Code', 'Business TOB', 'Tier', 'AB', 'Rtg', 'Received',\n",
       "       'Stars', 'Verified', 'Published', 'F Score', 'Text', 'Unnamed: 23',\n",
       "       'Unnamed: 0'],\n",
       "      dtype='object')"
      ]
     },
     "execution_count": 24,
     "metadata": {},
     "output_type": "execute_result"
    }
   ],
   "source": [
    "all_df.columns"
   ]
  },
  {
   "cell_type": "code",
   "execution_count": 19,
   "id": "8467042b-bf5d-40b2-ab63-39c500a6e408",
   "metadata": {
    "tags": []
   },
   "outputs": [
    {
     "data": {
      "text/plain": [
       "Index(['Business ID', 'Business', 'PKID', 'Last Name', 'First Name', 'Email',\n",
       "       'Display Name', 'Zip Code', 'IP', 'FScore', 'Source', 'Submitted',\n",
       "       'Experience', 'Recommend Business', 'Number of Business Responses',\n",
       "       'Last Business Response', 'Review', 'Business Response', 'Status',\n",
       "       'Reason', 'Stars', 'Month', 'permno', 'PredictedValue', 'year', 'BID',\n",
       "       'Code', 'isPrimary', 'Description'],\n",
       "      dtype='object')"
      ]
     },
     "execution_count": 19,
     "metadata": {},
     "output_type": "execute_result"
    }
   ],
   "source": [
    "neg_df.columns"
   ]
  },
  {
   "cell_type": "markdown",
   "id": "38a7606d-dd90-4de6-858c-e47352b7e891",
   "metadata": {},
   "source": [
    "### Structural Analysis"
   ]
  },
  {
   "cell_type": "markdown",
   "id": "bffcf993-37d3-407f-9a93-009099c05467",
   "metadata": {},
   "source": [
    "#### Describe Data"
   ]
  },
  {
   "cell_type": "code",
   "execution_count": 30,
   "id": "caa17974-598e-4104-b467-0acaa222c474",
   "metadata": {},
   "outputs": [
    {
     "data": {
      "text/plain": [
       "Index(['CID', 'BID', 'Stars', 'F Score', 'Unnamed: 23', 'Unnamed: 0'], dtype='object')"
      ]
     },
     "execution_count": 30,
     "metadata": {},
     "output_type": "execute_result"
    }
   ],
   "source": [
    "all_df.describe().columns"
   ]
  },
  {
   "cell_type": "markdown",
   "id": "f39de9a3-8b27-441a-be3e-d90d8fdac234",
   "metadata": {},
   "source": [
    "#### Get Null Pct By Column"
   ]
  },
  {
   "cell_type": "code",
   "execution_count": 32,
   "id": "9a8ca2c4-47a1-4b2c-a61f-00917633c849",
   "metadata": {
    "tags": []
   },
   "outputs": [
    {
     "data": {
      "text/plain": [
       "BBB                       0.000000\n",
       "CID                       8.613980\n",
       "Consumer Name             8.613980\n",
       "Consumer Postal Code      9.539950\n",
       "Consumer Email            8.613980\n",
       "Consumer Phone           58.061523\n",
       "Consumer IP Address       8.657533\n",
       "BID                       0.000000\n",
       "Business Name             8.613980\n",
       "Business Street           8.999328\n",
       "Business City             8.619661\n",
       "Business State            8.620608\n",
       "Business Postal Code      8.623448\n",
       "Business TOB              8.613980\n",
       "Tier                      8.613980\n",
       "AB                        8.613980\n",
       "Rtg                       8.613980\n",
       "Received                  8.613980\n",
       "Stars                     8.613980\n",
       "Verified                  8.613980\n",
       "Published                 8.613980\n",
       "F Score                   8.613980\n",
       "Text                      8.614927\n",
       "Unnamed: 23             100.000000\n",
       "Unnamed: 0               91.386020\n",
       "dtype: float64"
      ]
     },
     "execution_count": 32,
     "metadata": {},
     "output_type": "execute_result"
    }
   ],
   "source": [
    "all_df.isna().sum() / all_df.shape[0] * 100"
   ]
  },
  {
   "cell_type": "code",
   "execution_count": 34,
   "id": "c39bf9fb-ce82-4978-956e-82faaf69085a",
   "metadata": {
    "tags": []
   },
   "outputs": [
    {
     "data": {
      "text/plain": [
       "array([      nan, 0.000e+00, 1.000e+00, ..., 9.095e+03, 9.096e+03,\n",
       "       9.097e+03])"
      ]
     },
     "execution_count": 34,
     "metadata": {},
     "output_type": "execute_result"
    }
   ],
   "source": [
    "all_df[\"Unnamed: 0\"].unique()"
   ]
  },
  {
   "cell_type": "markdown",
   "id": "1340d8c7-034e-4348-8d11-8c558b459c23",
   "metadata": {},
   "source": [
    "---\n",
    "# Inspect Categorical Columns\n",
    "---"
   ]
  },
  {
   "cell_type": "markdown",
   "id": "0fd01f6c-9548-47a1-af75-d7e8dcf947c6",
   "metadata": {},
   "source": [
    "### i. Get Categorical Column Levels"
   ]
  },
  {
   "cell_type": "code",
   "execution_count": 11,
   "id": "5c0dfb54-7ab4-4752-b2b5-e64ff28a897c",
   "metadata": {
    "tags": []
   },
   "outputs": [],
   "source": [
    "cat_levels = {}\n",
    "cat_level_cnts = {}"
   ]
  },
  {
   "cell_type": "code",
   "execution_count": 12,
   "id": "e1beceea-a11c-4acb-8d23-d5ee64e1ebe4",
   "metadata": {
    "tags": []
   },
   "outputs": [],
   "source": [
    "for c in schema['categorical_columns']:\n",
    "    lvls = list(set(review_df[c].values.tolist()))\n",
    "    cat_levels[c] = lvls\n",
    "    cat_level_cnts[c] = len(lvls)"
   ]
  },
  {
   "cell_type": "code",
   "execution_count": 13,
   "id": "e02c8552-cbf4-4c5a-93fb-cbf00fc52108",
   "metadata": {
    "tags": []
   },
   "outputs": [
    {
     "data": {
      "text/plain": [
       "{'Business': 342,\n",
       " 'Last Name': 4203,\n",
       " 'First Name': 2730,\n",
       " 'Email': 5782,\n",
       " 'Display Name': 5055,\n",
       " 'Zip Code': 4243,\n",
       " 'IP': 5778,\n",
       " 'Source': 5,\n",
       " 'Submitted': 697,\n",
       " 'Experience': 1,\n",
       " 'Recommend Business': 3,\n",
       " 'Last Business Response': 569,\n",
       " 'Review': 5786,\n",
       " 'Business Response': 4709,\n",
       " 'Status': 9,\n",
       " 'Reason': 6,\n",
       " 'Code': 646,\n",
       " 'Description': 643}"
      ]
     },
     "execution_count": 13,
     "metadata": {},
     "output_type": "execute_result"
    }
   ],
   "source": [
    "cat_level_cnts"
   ]
  },
  {
   "cell_type": "code",
   "execution_count": 14,
   "id": "b1c1c2a7-b40d-49a4-8186-9b03fb75e361",
   "metadata": {
    "tags": []
   },
   "outputs": [
    {
     "data": {
      "text/plain": [
       "0    IABBB/Profile\n",
       "1    IABBB/Profile\n",
       "2    IABBB/Profile\n",
       "3    IABBB/Profile\n",
       "4    IABBB/Profile\n",
       "Name: Source, dtype: object"
      ]
     },
     "execution_count": 14,
     "metadata": {},
     "output_type": "execute_result"
    }
   ],
   "source": [
    "review_df['Source'].head()"
   ]
  },
  {
   "cell_type": "code",
   "execution_count": 15,
   "id": "4d2768a1-d2f2-40b8-a119-cc43b6bb2567",
   "metadata": {
    "tags": []
   },
   "outputs": [
    {
     "data": {
      "text/plain": [
       "['Negative']"
      ]
     },
     "execution_count": 15,
     "metadata": {},
     "output_type": "execute_result"
    }
   ],
   "source": [
    "cat_levels['Experience']"
   ]
  },
  {
   "cell_type": "markdown",
   "id": "03e4510a-fe63-4428-8689-3b7d10934252",
   "metadata": {
    "tags": []
   },
   "source": [
    "### ii. Inspect Review"
   ]
  },
  {
   "cell_type": "code",
   "execution_count": 16,
   "id": "61dcea9b-383a-4fea-a9ed-cceb1d11a84a",
   "metadata": {
    "tags": []
   },
   "outputs": [],
   "source": [
    "customer_reviews = (\n",
    "    review_df\n",
    "    .groupby(\"Review\")['Review']\n",
    "    .count()\n",
    "    .sort_values(ascending=False)\n",
    ")\n",
    "cr_df = pd.DataFrame({\n",
    "    \"reviews\": customer_reviews.index.tolist(),\n",
    "    \"count\": customer_reviews.values\n",
    "    }\n",
    ")"
   ]
  },
  {
   "cell_type": "code",
   "execution_count": 17,
   "id": "332a74ba-e264-4caa-a365-d5458503f80b",
   "metadata": {
    "tags": []
   },
   "outputs": [
    {
     "data": {
      "text/html": [
       "<div>\n",
       "<style scoped>\n",
       "    .dataframe tbody tr th:only-of-type {\n",
       "        vertical-align: middle;\n",
       "    }\n",
       "\n",
       "    .dataframe tbody tr th {\n",
       "        vertical-align: top;\n",
       "    }\n",
       "\n",
       "    .dataframe thead th {\n",
       "        text-align: right;\n",
       "    }\n",
       "</style>\n",
       "<table border=\"1\" class=\"dataframe\">\n",
       "  <thead>\n",
       "    <tr style=\"text-align: right;\">\n",
       "      <th></th>\n",
       "      <th>reviews</th>\n",
       "      <th>count</th>\n",
       "    </tr>\n",
       "  </thead>\n",
       "  <tbody>\n",
       "    <tr>\n",
       "      <th>0</th>\n",
       "      <td>I've spent close to $16,000 with all good Plum...</td>\n",
       "      <td>74</td>\n",
       "    </tr>\n",
       "    <tr>\n",
       "      <th>1</th>\n",
       "      <td>Terrible customer service and price gouging.\\n...</td>\n",
       "      <td>74</td>\n",
       "    </tr>\n",
       "    <tr>\n",
       "      <th>2</th>\n",
       "      <td>My Rinnai tankless water heater stopped heatin...</td>\n",
       "      <td>66</td>\n",
       "    </tr>\n",
       "    <tr>\n",
       "      <th>3</th>\n",
       "      <td>I wanted to purchase a home ac unit and since ...</td>\n",
       "      <td>66</td>\n",
       "    </tr>\n",
       "    <tr>\n",
       "      <th>4</th>\n",
       "      <td>I bought a unit at the end of December, spendi...</td>\n",
       "      <td>66</td>\n",
       "    </tr>\n",
       "  </tbody>\n",
       "</table>\n",
       "</div>"
      ],
      "text/plain": [
       "                                             reviews  count\n",
       "0  I've spent close to $16,000 with all good Plum...     74\n",
       "1  Terrible customer service and price gouging.\\n...     74\n",
       "2  My Rinnai tankless water heater stopped heatin...     66\n",
       "3  I wanted to purchase a home ac unit and since ...     66\n",
       "4  I bought a unit at the end of December, spendi...     66"
      ]
     },
     "execution_count": 17,
     "metadata": {},
     "output_type": "execute_result"
    }
   ],
   "source": [
    "cr_df.head()"
   ]
  },
  {
   "cell_type": "code",
   "execution_count": 18,
   "id": "d38aca89-27a0-445f-b2d5-ce28a47bd490",
   "metadata": {
    "tags": []
   },
   "outputs": [],
   "source": [
    "# Subset Reviews to Most Frequent Complaint\n",
    "top_complaint = review_df[review_df['Review'] == cr_df.iloc[0, 0]]"
   ]
  },
  {
   "cell_type": "code",
   "execution_count": 19,
   "id": "f721cbe7-719b-42df-8a71-260729c0dd71",
   "metadata": {
    "tags": []
   },
   "outputs": [
    {
     "data": {
      "text/html": [
       "<div>\n",
       "<style scoped>\n",
       "    .dataframe tbody tr th:only-of-type {\n",
       "        vertical-align: middle;\n",
       "    }\n",
       "\n",
       "    .dataframe tbody tr th {\n",
       "        vertical-align: top;\n",
       "    }\n",
       "\n",
       "    .dataframe thead th {\n",
       "        text-align: right;\n",
       "    }\n",
       "</style>\n",
       "<table border=\"1\" class=\"dataframe\">\n",
       "  <thead>\n",
       "    <tr style=\"text-align: right;\">\n",
       "      <th></th>\n",
       "      <th>Business ID</th>\n",
       "      <th>Business</th>\n",
       "      <th>PKID</th>\n",
       "      <th>Last Name</th>\n",
       "      <th>First Name</th>\n",
       "      <th>Email</th>\n",
       "      <th>Display Name</th>\n",
       "      <th>Zip Code</th>\n",
       "      <th>IP</th>\n",
       "      <th>FScore</th>\n",
       "      <th>Source</th>\n",
       "      <th>Submitted</th>\n",
       "      <th>Experience</th>\n",
       "      <th>Recommend Business</th>\n",
       "      <th>Number of Business Responses</th>\n",
       "      <th>Last Business Response</th>\n",
       "      <th>Review</th>\n",
       "      <th>Business Response</th>\n",
       "      <th>Status</th>\n",
       "      <th>Reason</th>\n",
       "      <th>Stars</th>\n",
       "      <th>Month</th>\n",
       "      <th>permno</th>\n",
       "      <th>PredictedValue</th>\n",
       "      <th>year</th>\n",
       "      <th>BID</th>\n",
       "      <th>Code</th>\n",
       "      <th>isPrimary</th>\n",
       "      <th>Description</th>\n",
       "    </tr>\n",
       "  </thead>\n",
       "  <tbody>\n",
       "    <tr>\n",
       "      <th>23238</th>\n",
       "      <td>27139514.0</td>\n",
       "      <td>All Good Plumbing, Electric, Heating &amp; Cooling</td>\n",
       "      <td>218742.0</td>\n",
       "      <td>Sneed</td>\n",
       "      <td>Charles</td>\n",
       "      <td>myintrinsicideas4u@gmail.com</td>\n",
       "      <td>Charles S</td>\n",
       "      <td>30349</td>\n",
       "      <td>172.58.7.110</td>\n",
       "      <td>0.0</td>\n",
       "      <td>IABBB/Profile</td>\n",
       "      <td>02/17/2023</td>\n",
       "      <td>Negative</td>\n",
       "      <td>True</td>\n",
       "      <td>1.0</td>\n",
       "      <td>05/11/2023</td>\n",
       "      <td>I've spent close to $16,000 with all good Plum...</td>\n",
       "      <td>Charles, thank you for reaching out to share y...</td>\n",
       "      <td>Reviewed and Published</td>\n",
       "      <td>NaN</td>\n",
       "      <td>1.0</td>\n",
       "      <td>NaN</td>\n",
       "      <td>NaN</td>\n",
       "      <td>NaN</td>\n",
       "      <td>2023</td>\n",
       "      <td>27139514.0</td>\n",
       "      <td>10006-100</td>\n",
       "      <td>0.0</td>\n",
       "      <td>Kitchen Remodel</td>\n",
       "    </tr>\n",
       "    <tr>\n",
       "      <th>23239</th>\n",
       "      <td>27139514.0</td>\n",
       "      <td>All Good Plumbing, Electric, Heating &amp; Cooling</td>\n",
       "      <td>218742.0</td>\n",
       "      <td>Sneed</td>\n",
       "      <td>Charles</td>\n",
       "      <td>myintrinsicideas4u@gmail.com</td>\n",
       "      <td>Charles S</td>\n",
       "      <td>30349</td>\n",
       "      <td>172.58.7.110</td>\n",
       "      <td>0.0</td>\n",
       "      <td>IABBB/Profile</td>\n",
       "      <td>02/17/2023</td>\n",
       "      <td>Negative</td>\n",
       "      <td>True</td>\n",
       "      <td>1.0</td>\n",
       "      <td>05/11/2023</td>\n",
       "      <td>I've spent close to $16,000 with all good Plum...</td>\n",
       "      <td>Charles, thank you for reaching out to share y...</td>\n",
       "      <td>Reviewed and Published</td>\n",
       "      <td>NaN</td>\n",
       "      <td>1.0</td>\n",
       "      <td>NaN</td>\n",
       "      <td>NaN</td>\n",
       "      <td>NaN</td>\n",
       "      <td>2023</td>\n",
       "      <td>27139514.0</td>\n",
       "      <td>10177-101</td>\n",
       "      <td>0.0</td>\n",
       "      <td>Bathroom Remodel</td>\n",
       "    </tr>\n",
       "    <tr>\n",
       "      <th>23240</th>\n",
       "      <td>27139514.0</td>\n",
       "      <td>All Good Plumbing, Electric, Heating &amp; Cooling</td>\n",
       "      <td>218742.0</td>\n",
       "      <td>Sneed</td>\n",
       "      <td>Charles</td>\n",
       "      <td>myintrinsicideas4u@gmail.com</td>\n",
       "      <td>Charles S</td>\n",
       "      <td>30349</td>\n",
       "      <td>172.58.7.110</td>\n",
       "      <td>0.0</td>\n",
       "      <td>IABBB/Profile</td>\n",
       "      <td>02/17/2023</td>\n",
       "      <td>Negative</td>\n",
       "      <td>True</td>\n",
       "      <td>1.0</td>\n",
       "      <td>05/11/2023</td>\n",
       "      <td>I've spent close to $16,000 with all good Plum...</td>\n",
       "      <td>Charles, thank you for reaching out to share y...</td>\n",
       "      <td>Reviewed and Published</td>\n",
       "      <td>NaN</td>\n",
       "      <td>1.0</td>\n",
       "      <td>NaN</td>\n",
       "      <td>NaN</td>\n",
       "      <td>NaN</td>\n",
       "      <td>2023</td>\n",
       "      <td>27139514.0</td>\n",
       "      <td>10003-000</td>\n",
       "      <td>0.0</td>\n",
       "      <td>Air Conditioning Contractor</td>\n",
       "    </tr>\n",
       "  </tbody>\n",
       "</table>\n",
       "</div>"
      ],
      "text/plain": [
       "       Business ID                                        Business      PKID  \\\n",
       "23238   27139514.0  All Good Plumbing, Electric, Heating & Cooling  218742.0   \n",
       "23239   27139514.0  All Good Plumbing, Electric, Heating & Cooling  218742.0   \n",
       "23240   27139514.0  All Good Plumbing, Electric, Heating & Cooling  218742.0   \n",
       "\n",
       "      Last Name First Name                         Email Display Name  \\\n",
       "23238     Sneed    Charles  myintrinsicideas4u@gmail.com    Charles S   \n",
       "23239     Sneed    Charles  myintrinsicideas4u@gmail.com    Charles S   \n",
       "23240     Sneed    Charles  myintrinsicideas4u@gmail.com    Charles S   \n",
       "\n",
       "      Zip Code            IP  FScore         Source   Submitted Experience  \\\n",
       "23238    30349  172.58.7.110     0.0  IABBB/Profile  02/17/2023   Negative   \n",
       "23239    30349  172.58.7.110     0.0  IABBB/Profile  02/17/2023   Negative   \n",
       "23240    30349  172.58.7.110     0.0  IABBB/Profile  02/17/2023   Negative   \n",
       "\n",
       "      Recommend Business  Number of Business Responses Last Business Response  \\\n",
       "23238               True                           1.0             05/11/2023   \n",
       "23239               True                           1.0             05/11/2023   \n",
       "23240               True                           1.0             05/11/2023   \n",
       "\n",
       "                                                  Review  \\\n",
       "23238  I've spent close to $16,000 with all good Plum...   \n",
       "23239  I've spent close to $16,000 with all good Plum...   \n",
       "23240  I've spent close to $16,000 with all good Plum...   \n",
       "\n",
       "                                       Business Response  \\\n",
       "23238  Charles, thank you for reaching out to share y...   \n",
       "23239  Charles, thank you for reaching out to share y...   \n",
       "23240  Charles, thank you for reaching out to share y...   \n",
       "\n",
       "                       Status Reason  Stars  Month  permno  PredictedValue  \\\n",
       "23238  Reviewed and Published    NaN    1.0    NaN     NaN             NaN   \n",
       "23239  Reviewed and Published    NaN    1.0    NaN     NaN             NaN   \n",
       "23240  Reviewed and Published    NaN    1.0    NaN     NaN             NaN   \n",
       "\n",
       "       year         BID       Code  isPrimary                  Description  \n",
       "23238  2023  27139514.0  10006-100        0.0              Kitchen Remodel  \n",
       "23239  2023  27139514.0  10177-101        0.0             Bathroom Remodel  \n",
       "23240  2023  27139514.0  10003-000        0.0  Air Conditioning Contractor  "
      ]
     },
     "execution_count": 19,
     "metadata": {},
     "output_type": "execute_result"
    }
   ],
   "source": [
    "top_complaint.head(3)"
   ]
  },
  {
   "cell_type": "code",
   "execution_count": 20,
   "id": "a833b6b7-afb7-4c10-9f7f-f840d2d792e5",
   "metadata": {
    "tags": []
   },
   "outputs": [],
   "source": [
    "# top_complaint.to_csv(os.path.join(DIR_DATA_EDA, \"top_comp laint.csv\"))"
   ]
  },
  {
   "cell_type": "markdown",
   "id": "02d405f2-06c0-481e-87db-1766fcf8faa3",
   "metadata": {},
   "source": [
    "### iii. inspect status field"
   ]
  },
  {
   "cell_type": "code",
   "execution_count": 21,
   "id": "36e74851-5d37-4ea7-91d6-896ccd4f51b7",
   "metadata": {
    "tags": []
   },
   "outputs": [
    {
     "data": {
      "text/plain": [
       "['Rejected',\n",
       " 'Not a Customer',\n",
       " 'Not a Customer (Employee)',\n",
       " 'Duplicate Review',\n",
       " 'Customer Submitted Complaint',\n",
       " 'Pending (Under Review)',\n",
       " 'Not a Customer (Business)',\n",
       " 'Retracted by Consumer',\n",
       " 'Reviewed and Published']"
      ]
     },
     "execution_count": 21,
     "metadata": {},
     "output_type": "execute_result"
    }
   ],
   "source": [
    "cat_levels['Status']"
   ]
  },
  {
   "cell_type": "code",
   "execution_count": 22,
   "id": "94f66c3c-eaf5-4d89-9797-33a7636fcec8",
   "metadata": {
    "tags": []
   },
   "outputs": [
    {
     "data": {
      "text/plain": [
       "Status\n",
       "Customer Submitted Complaint        5\n",
       "Duplicate Review                   11\n",
       "Not a Customer                     16\n",
       "Not a Customer (Business)           1\n",
       "Not a Customer (Employee)           1\n",
       "Pending (Under Review)              9\n",
       "Rejected                            4\n",
       "Retracted by Consumer               9\n",
       "Reviewed and Published          26367\n",
       "Name: Status, dtype: int64"
      ]
     },
     "execution_count": 22,
     "metadata": {},
     "output_type": "execute_result"
    }
   ],
   "source": [
    "review_df.groupby('Status')['Status'].count()"
   ]
  },
  {
   "cell_type": "code",
   "execution_count": null,
   "id": "7bda0559-74a7-423d-8413-4b3d8a1da6b8",
   "metadata": {},
   "outputs": [],
   "source": []
  },
  {
   "cell_type": "markdown",
   "id": "fd978f8a-d5e6-4c81-b897-46736e14a1b0",
   "metadata": {},
   "source": [
    "### iv. Drop Duplicates"
   ]
  },
  {
   "cell_type": "code",
   "execution_count": 36,
   "id": "e93c61d6-c070-4859-bd4a-ca7285f6b619",
   "metadata": {
    "tags": []
   },
   "outputs": [],
   "source": [
    "deduped_df = review_df[[c for c in review_df.columns if c not in ['Description', 'Code']]]"
   ]
  },
  {
   "cell_type": "code",
   "execution_count": 37,
   "id": "1a8a3d75-55c5-4d2d-8950-61df25389ba8",
   "metadata": {
    "tags": []
   },
   "outputs": [
    {
     "data": {
      "text/plain": [
       "(26423, 27)"
      ]
     },
     "execution_count": 37,
     "metadata": {},
     "output_type": "execute_result"
    }
   ],
   "source": [
    "deduped_df.shape"
   ]
  },
  {
   "cell_type": "code",
   "execution_count": 40,
   "id": "88f69abc-c706-443a-8e9f-14219f1099fa",
   "metadata": {
    "tags": []
   },
   "outputs": [
    {
     "data": {
      "text/html": [
       "<div>\n",
       "<style scoped>\n",
       "    .dataframe tbody tr th:only-of-type {\n",
       "        vertical-align: middle;\n",
       "    }\n",
       "\n",
       "    .dataframe tbody tr th {\n",
       "        vertical-align: top;\n",
       "    }\n",
       "\n",
       "    .dataframe thead th {\n",
       "        text-align: right;\n",
       "    }\n",
       "</style>\n",
       "<table border=\"1\" class=\"dataframe\">\n",
       "  <thead>\n",
       "    <tr style=\"text-align: right;\">\n",
       "      <th></th>\n",
       "      <th>Business ID</th>\n",
       "      <th>Business</th>\n",
       "      <th>PKID</th>\n",
       "      <th>Last Name</th>\n",
       "      <th>First Name</th>\n",
       "      <th>Email</th>\n",
       "      <th>Display Name</th>\n",
       "      <th>Zip Code</th>\n",
       "      <th>IP</th>\n",
       "      <th>FScore</th>\n",
       "      <th>Source</th>\n",
       "      <th>Submitted</th>\n",
       "      <th>Experience</th>\n",
       "      <th>Recommend Business</th>\n",
       "      <th>Number of Business Responses</th>\n",
       "      <th>Last Business Response</th>\n",
       "      <th>Review</th>\n",
       "      <th>Business Response</th>\n",
       "      <th>Status</th>\n",
       "      <th>Reason</th>\n",
       "      <th>Stars</th>\n",
       "      <th>Month</th>\n",
       "      <th>permno</th>\n",
       "      <th>PredictedValue</th>\n",
       "      <th>year</th>\n",
       "      <th>BID</th>\n",
       "      <th>isPrimary</th>\n",
       "    </tr>\n",
       "  </thead>\n",
       "  <tbody>\n",
       "    <tr>\n",
       "      <th>0</th>\n",
       "      <td>595.0</td>\n",
       "      <td>Financial Asset Management Systems, Inc.</td>\n",
       "      <td>203318.0</td>\n",
       "      <td>Doolin</td>\n",
       "      <td>Mary</td>\n",
       "      <td>stetsoncowgirl@gmail.com</td>\n",
       "      <td>Mary D</td>\n",
       "      <td>32504</td>\n",
       "      <td>69.85.205.227</td>\n",
       "      <td>0.0</td>\n",
       "      <td>IABBB/Profile</td>\n",
       "      <td>11/08/2022</td>\n",
       "      <td>Negative</td>\n",
       "      <td>True</td>\n",
       "      <td>1.0</td>\n",
       "      <td>11/14/2022</td>\n",
       "      <td>Why are you sending me letters from a loan tha...</td>\n",
       "      <td>FAMS is not a debt buyer and did not purchase ...</td>\n",
       "      <td>Reviewed and Published</td>\n",
       "      <td>NaN</td>\n",
       "      <td>1.0</td>\n",
       "      <td>NaN</td>\n",
       "      <td>NaN</td>\n",
       "      <td>NaN</td>\n",
       "      <td>2022</td>\n",
       "      <td>595.0</td>\n",
       "      <td>0.0</td>\n",
       "    </tr>\n",
       "  </tbody>\n",
       "</table>\n",
       "</div>"
      ],
      "text/plain": [
       "   Business ID                                  Business      PKID Last Name  \\\n",
       "0        595.0  Financial Asset Management Systems, Inc.  203318.0    Doolin   \n",
       "\n",
       "  First Name                     Email Display Name Zip Code             IP  \\\n",
       "0       Mary  stetsoncowgirl@gmail.com       Mary D    32504  69.85.205.227   \n",
       "\n",
       "   FScore         Source   Submitted Experience Recommend Business  \\\n",
       "0     0.0  IABBB/Profile  11/08/2022   Negative               True   \n",
       "\n",
       "   Number of Business Responses Last Business Response  \\\n",
       "0                           1.0             11/14/2022   \n",
       "\n",
       "                                              Review  \\\n",
       "0  Why are you sending me letters from a loan tha...   \n",
       "\n",
       "                                   Business Response                  Status  \\\n",
       "0  FAMS is not a debt buyer and did not purchase ...  Reviewed and Published   \n",
       "\n",
       "  Reason  Stars  Month  permno  PredictedValue  year    BID  isPrimary  \n",
       "0    NaN    1.0    NaN     NaN             NaN  2022  595.0        0.0  "
      ]
     },
     "execution_count": 40,
     "metadata": {},
     "output_type": "execute_result"
    }
   ],
   "source": [
    "deduped_df.head(1)"
   ]
  },
  {
   "cell_type": "code",
   "execution_count": 46,
   "id": "830ba0de-3faa-470e-aedf-d9fb873ef56a",
   "metadata": {
    "tags": []
   },
   "outputs": [
    {
     "name": "stdout",
     "output_type": "stream",
     "text": [
      "Pct Duplicates => 0.6113991598228816\n"
     ]
    }
   ],
   "source": [
    "print(f\"Pct Duplicates => {1 - (deduped_df.drop_duplicates().shape[0] / review_df.shape[0])}\")"
   ]
  },
  {
   "cell_type": "code",
   "execution_count": null,
   "id": "805d8d0a-b0b5-4685-928b-042b91712022",
   "metadata": {},
   "outputs": [],
   "source": []
  }
 ],
 "metadata": {
  "kernelspec": {
   "display_name": "Python 3 (ipykernel)",
   "language": "python",
   "name": "python3"
  },
  "language_info": {
   "codemirror_mode": {
    "name": "ipython",
    "version": 3
   },
   "file_extension": ".py",
   "mimetype": "text/x-python",
   "name": "python",
   "nbconvert_exporter": "python",
   "pygments_lexer": "ipython3",
   "version": "3.11.5"
  }
 },
 "nbformat": 4,
 "nbformat_minor": 5
}
